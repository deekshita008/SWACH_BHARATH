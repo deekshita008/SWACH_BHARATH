import json
import os

def coco_to_yolo(coco_file, output_dir):
    """Converts a COCO JSON file to YOLO format.

    Args:
        coco_file: Path to the COCO JSON file.
        output_dir: Directory to save the YOLO TXT files.
    """

    # Create the output directory if it doesn't exist
    os.makedirs(output_dir)

    with open(coco_file, 'r') as f:
        data = json.load(f)

    # Get image and category information
    images = data['images']
    categories = data['categories']
    annotations = data['annotations']

    # Create a mapping from category name to ID
    category_map = {c['id']: c['name'] for c in categories}

    # Process each image
    for image in images:
        image_id = image['id']
        image_filename = image['file_name']
        image_width = image['width']
        image_height = image['height']

        # Create a list to store object information for this image
        objects = []

        # Find annotations for this image
        for annotation in annotations:
            if annotation['image_id'] == image_id:
                # Get class ID
                class_id = annotation['category_id']
                class_name = category_map[class_id]

                # Get bounding box coordinates
                bbox = annotation['bbox']
                x_center = (bbox[0] + bbox[2] / 2) / image_width
                y_center = (bbox[1] + bbox[3] / 2) / image_height
                width = bbox[2] / image_width
                height = bbox[3] / image_height

                # Append object information to the list
                objects.append(f"{class_id} {x_center} {y_center} {width} {height}")

        # Write YOLO format to a TXT file
        output_path = f"{output_dir}/{image_filename[:-4]}.txt"
        with open(output_path, 'w') as f:
            f.write('\n'.join(objects))

# Example usage
coco_file = '/content/labels.json'
output_dir = '/content/labels_real'
coco_to_yolo(coco_file, output_dir)
